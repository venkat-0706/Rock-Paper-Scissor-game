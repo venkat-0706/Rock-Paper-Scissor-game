{
 "cells": [
  {
   "cell_type": "markdown",
   "id": "d9e94a8f",
   "metadata": {},
   "source": [
    "# Rock,Paper,Scissor game (RPS)"
   ]
  },
  {
   "cell_type": "code",
   "execution_count": null,
   "id": "33079e23",
   "metadata": {},
   "outputs": [
    {
     "name": "stdout",
     "output_type": "stream",
     "text": [
      "Choose rock, paper, or scissor: rock\n",
      "You chose: rock\n",
      "Computer chose: scissor\n",
      "You win!\n",
      "Do you want to play again? (yes/no): yes\n",
      "Choose rock, paper, or scissor: scissor\n",
      "You chose: scissor\n",
      "Computer chose: scissor\n",
      "It's a tie!\n",
      "Do you want to play again? (yes/no): yes\n",
      "Choose rock, paper, or scissor: paper\n",
      "You chose: paper\n",
      "Computer chose: paper\n",
      "It's a tie!\n",
      "Do you want to play again? (yes/no): yes\n",
      "Choose rock, paper, or scissor: rock\n",
      "You chose: rock\n",
      "Computer chose: rock\n",
      "It's a tie!\n",
      "Do you want to play again? (yes/no): yes\n",
      "Choose rock, paper, or scissor: scissor\n",
      "You chose: scissor\n",
      "Computer chose: rock\n",
      "Computer wins!\n"
     ]
    }
   ],
   "source": [
    "\n",
    "\n",
    "import random\n",
    "\n",
    "def fun_game():\n",
    "  \"\"\"Plays a single round of Rock, Paper, Scissor.\"\"\"\n",
    "  options = [\"rock\", \"paper\", \"scissor\"]\n",
    "  user_choice = input(\"Choose rock, paper, or scissor: \").lower()\n",
    "  computer_choice = random.choice(options)\n",
    "\n",
    "  if user_choice not in options:\n",
    "    print(\"Invalid choice. Please choose rock, paper, or scissor.\")\n",
    "    return\n",
    "\n",
    "  print(f\"You chose: {user_choice}\")\n",
    "  print(f\"Computer chose: {computer_choice}\")\n",
    "\n",
    "  if user_choice == computer_choice:\n",
    "    print(\"It's a tie!\")\n",
    "  elif (user_choice == \"rock\" and computer_choice == \"scissor\") or \\\n",
    "       (user_choice == \"paper\" and computer_choice == \"rock\") or \\\n",
    "       (user_choice == \"scissor\" and computer_choice == \"paper\"):\n",
    "    print(\"You win!\")\n",
    "  else:\n",
    "    print(\"Computer wins!\")\n",
    "\n",
    "while True:\n",
    "  fun_game()\n",
    "  play_again = input(\"Do you want to play again? (yes/no): \").lower()\n",
    "  if play_again != \"yes\":\n",
    "    break"
   ]
  }
 ],
 "metadata": {
  "kernelspec": {
   "display_name": "Python 3 (ipykernel)",
   "language": "python",
   "name": "python3"
  },
  "language_info": {
   "codemirror_mode": {
    "name": "ipython",
    "version": 3
   },
   "file_extension": ".py",
   "mimetype": "text/x-python",
   "name": "python",
   "nbconvert_exporter": "python",
   "pygments_lexer": "ipython3",
   "version": "3.11.5"
  }
 },
 "nbformat": 4,
 "nbformat_minor": 5
}
